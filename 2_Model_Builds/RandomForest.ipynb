{
  "nbformat": 4,
  "nbformat_minor": 0,
  "metadata": {
    "colab": {
      "name": "Welcome To Colaboratory",
      "provenance": [],
      "collapsed_sections": []
    },
    "kernelspec": {
      "display_name": "Python 3",
      "name": "python3"
    }
  },
  "cells": [
    {
      "cell_type": "code",
      "metadata": {
        "id": "aqSdRVW3Bvkz",
        "colab_type": "code",
        "colab": {
          "base_uri": "https://localhost:8080/",
          "height": 391
        },
        "outputId": "f2cbc4d9-9277-4f48-e6f9-8826fa599f2c"
      },
      "source": [
        "!pip install astroML"
      ],
      "execution_count": 2,
      "outputs": [
        {
          "output_type": "stream",
          "text": [
            "Collecting astroML\n",
            "\u001b[?25l  Downloading https://files.pythonhosted.org/packages/e6/16/bb2d2784c09bfa9ed1ac5c3caf32cc203a1f8614fd5361f99ee46b4e04dc/astroML-0.4.1.tar.gz (105kB)\n",
            "\u001b[K     |████████████████████████████████| 112kB 2.8MB/s \n",
            "\u001b[?25hRequirement already satisfied: scikit-learn>=0.18 in /usr/local/lib/python3.6/dist-packages (from astroML) (0.22.1)\n",
            "Requirement already satisfied: numpy>=1.4 in /usr/local/lib/python3.6/dist-packages (from astroML) (1.17.5)\n",
            "Requirement already satisfied: scipy>=0.11 in /usr/local/lib/python3.6/dist-packages (from astroML) (1.4.1)\n",
            "Requirement already satisfied: matplotlib>=0.99 in /usr/local/lib/python3.6/dist-packages (from astroML) (3.1.2)\n",
            "Requirement already satisfied: astropy>=1.2 in /usr/local/lib/python3.6/dist-packages (from astroML) (4.0)\n",
            "Requirement already satisfied: joblib>=0.11 in /usr/local/lib/python3.6/dist-packages (from scikit-learn>=0.18->astroML) (0.14.1)\n",
            "Requirement already satisfied: pyparsing!=2.0.4,!=2.1.2,!=2.1.6,>=2.0.1 in /usr/local/lib/python3.6/dist-packages (from matplotlib>=0.99->astroML) (2.4.6)\n",
            "Requirement already satisfied: kiwisolver>=1.0.1 in /usr/local/lib/python3.6/dist-packages (from matplotlib>=0.99->astroML) (1.1.0)\n",
            "Requirement already satisfied: python-dateutil>=2.1 in /usr/local/lib/python3.6/dist-packages (from matplotlib>=0.99->astroML) (2.6.1)\n",
            "Requirement already satisfied: cycler>=0.10 in /usr/local/lib/python3.6/dist-packages (from matplotlib>=0.99->astroML) (0.10.0)\n",
            "Requirement already satisfied: setuptools in /usr/local/lib/python3.6/dist-packages (from kiwisolver>=1.0.1->matplotlib>=0.99->astroML) (42.0.2)\n",
            "Requirement already satisfied: six>=1.5 in /usr/local/lib/python3.6/dist-packages (from python-dateutil>=2.1->matplotlib>=0.99->astroML) (1.12.0)\n",
            "Building wheels for collected packages: astroML\n",
            "  Building wheel for astroML (setup.py) ... \u001b[?25l\u001b[?25hdone\n",
            "  Created wheel for astroML: filename=astroML-0.4.1-cp36-none-any.whl size=128663 sha256=feeeecd059be973fe80edf35fd44976a5decd047773e8479d94c21a323989609\n",
            "  Stored in directory: /root/.cache/pip/wheels/7c/f2/f3/eb817cfb31b4445358dd7dda2434e02003f72801edabc38c97\n",
            "Successfully built astroML\n",
            "Installing collected packages: astroML\n",
            "Successfully installed astroML-0.4.1\n"
          ],
          "name": "stdout"
        }
      ]
    },
    {
      "cell_type": "code",
      "metadata": {
        "id": "xKL0p4FjBor7",
        "colab_type": "code",
        "colab": {}
      },
      "source": [
        "# Data Loading\n",
        "import numpy as np\n",
        "\n",
        "from astroML.datasets import fetch_nasa_atlas\n",
        "\n",
        "data = fetch_nasa_atlas()"
      ],
      "execution_count": 0,
      "outputs": []
    },
    {
      "cell_type": "code",
      "metadata": {
        "id": "sw5YtddUf84o",
        "colab_type": "code",
        "colab": {
          "base_uri": "https://localhost:8080/",
          "height": 54
        },
        "outputId": "3a9a069b-0f68-4dbf-c4bc-08a256adc2bc"
      },
      "source": [
        "data.dtype"
      ],
      "execution_count": 70,
      "outputs": [
        {
          "output_type": "execute_result",
          "data": {
            "text/plain": [
              "dtype([('RA', '>f8'), ('DEC', '>f8'), ('PLATE', '>i4'), ('FIBERID', '>i4'), ('MJD', '>i4'), ('S2NSAMP', '>f4'), ('Z', '>f4'), ('ZDIST', '>f4'), ('ZDIST_ERR', '>f4'), ('NMGY', '>f4', (7,)), ('NMGY_IVAR', '>f4', (7,)), ('RNMGY', '>f4', (7,)), ('ABSMAG', '>f4', (7,)), ('AMIVAR', '>f4', (7,)), ('EXTINCTION', '>f4', (7,)), ('MTOL', '>f4', (7,)), ('B300', '>f4'), ('B1000', '>f4'), ('METS', '>f4'), ('MASS', '>f4'), ('SERSIC_N', '>f4'), ('SERSIC_BA', '>f4'), ('PETROTH50', '>f4'), ('PETROTH90', '>f4'), ('VDISP', '>f4'), ('D4000', '>f4'), ('D4000ERR', '>f4'), ('S2FLUX', '>f4'), ('S2FLUXERR', '>f4'), ('HAFLUX', '>f4'), ('HAFLUXERR', '>f4'), ('N2FLUX', '>f4'), ('N2FLUXERR', '>f4'), ('HBFLUX', '>f4'), ('HBFLUXERR', '>f4'), ('O1FLUX', '>f4'), ('O1FLUXERR', '>f4'), ('O2FLUX', '>f4'), ('O2FLUXERR', '>f4'), ('O3FLUX', '>f4'), ('O3FLUXERR', '>f4')])"
            ]
          },
          "metadata": {
            "tags": []
          },
          "execution_count": 70
        }
      ]
    },
    {
      "cell_type": "code",
      "metadata": {
        "id": "XHMONsD3jT2k",
        "colab_type": "code",
        "colab": {
          "base_uri": "https://localhost:8080/",
          "height": 714
        },
        "outputId": "8dfef0d8-2250-4ce1-c2f0-b5a765c261f8"
      },
      "source": [
        "data.dtype.names"
      ],
      "execution_count": 71,
      "outputs": [
        {
          "output_type": "execute_result",
          "data": {
            "text/plain": [
              "('RA',\n",
              " 'DEC',\n",
              " 'PLATE',\n",
              " 'FIBERID',\n",
              " 'MJD',\n",
              " 'S2NSAMP',\n",
              " 'Z',\n",
              " 'ZDIST',\n",
              " 'ZDIST_ERR',\n",
              " 'NMGY',\n",
              " 'NMGY_IVAR',\n",
              " 'RNMGY',\n",
              " 'ABSMAG',\n",
              " 'AMIVAR',\n",
              " 'EXTINCTION',\n",
              " 'MTOL',\n",
              " 'B300',\n",
              " 'B1000',\n",
              " 'METS',\n",
              " 'MASS',\n",
              " 'SERSIC_N',\n",
              " 'SERSIC_BA',\n",
              " 'PETROTH50',\n",
              " 'PETROTH90',\n",
              " 'VDISP',\n",
              " 'D4000',\n",
              " 'D4000ERR',\n",
              " 'S2FLUX',\n",
              " 'S2FLUXERR',\n",
              " 'HAFLUX',\n",
              " 'HAFLUXERR',\n",
              " 'N2FLUX',\n",
              " 'N2FLUXERR',\n",
              " 'HBFLUX',\n",
              " 'HBFLUXERR',\n",
              " 'O1FLUX',\n",
              " 'O1FLUXERR',\n",
              " 'O2FLUX',\n",
              " 'O2FLUXERR',\n",
              " 'O3FLUX',\n",
              " 'O3FLUXERR')"
            ]
          },
          "metadata": {
            "tags": []
          },
          "execution_count": 71
        }
      ]
    },
    {
      "cell_type": "code",
      "metadata": {
        "id": "mfMeudG3ja3M",
        "colab_type": "code",
        "colab": {
          "base_uri": "https://localhost:8080/",
          "height": 34
        },
        "outputId": "abbba197-7dd0-48b1-ae81-08cf9fd8e328"
      },
      "source": [
        "col_names = ['RA',\n",
        " 'DEC',\n",
        " 'PLATE',\n",
        " 'FIBERID',\n",
        " 'MJD',\n",
        " 'S2NSAMP',\n",
        " 'Z',\n",
        " 'ZDIST',\n",
        " 'ZDIST_ERR',\n",
        " 'B300',\n",
        " 'B1000',\n",
        " 'METS',\n",
        " 'MASS',\n",
        " 'SERSIC_N',\n",
        " 'SERSIC_BA',\n",
        " 'PETROTH50',\n",
        " 'PETROTH90',\n",
        " 'VDISP',\n",
        " 'D4000',\n",
        " 'D4000ERR',\n",
        " 'S2FLUX',\n",
        " 'S2FLUXERR',\n",
        " 'HAFLUX',\n",
        " 'HAFLUXERR',\n",
        " 'N2FLUX',\n",
        " 'N2FLUXERR',\n",
        " 'HBFLUX',\n",
        " 'HBFLUXERR',\n",
        " 'O1FLUX',\n",
        " 'O1FLUXERR',\n",
        " 'O2FLUX',\n",
        " 'O2FLUXERR',\n",
        " 'O3FLUX',\n",
        " 'O3FLUXERR']\n",
        "len(col_names)"
      ],
      "execution_count": 73,
      "outputs": [
        {
          "output_type": "execute_result",
          "data": {
            "text/plain": [
              "34"
            ]
          },
          "metadata": {
            "tags": []
          },
          "execution_count": 73
        }
      ]
    },
    {
      "cell_type": "code",
      "metadata": {
        "id": "QiWR8_hZh1Pl",
        "colab_type": "code",
        "colab": {
          "base_uri": "https://localhost:8080/",
          "height": 833
        },
        "outputId": "bba05bfa-187b-4db6-aac7-56821d57df9c"
      },
      "source": [
        "for t in data[0]:\n",
        "  print(t)"
      ],
      "execution_count": 65,
      "outputs": [
        {
          "output_type": "stream",
          "text": [
            "146.71420878660933\n",
            "-1.0412815695754145\n",
            "266\n",
            "1\n",
            "51630\n",
            "35.6447\n",
            "0.021222278\n",
            "0.020687785\n",
            "0.00044536332\n",
            "[  29.552263   53.198177  175.86322   819.325    1793.9138   2480.876\n",
            " 3251.03    ]\n",
            "[3.0069932e-01 1.9650683e-01 1.4631173e-02 4.3475279e-03 9.1012771e-04\n",
            " 4.7585298e-04 1.2297294e-04]\n",
            "[  31.202734   49.386097  199.0066    824.0366   1712.252    2462.11\n",
            " 3454.6162  ]\n",
            "[-15.1673565 -15.816648  -17.190884  -18.824028  -19.66704   -20.00378\n",
            " -20.296247 ]\n",
            "[ 222.77438  471.76144  383.8668  2475.7463  2484.602   2484.4727\n",
            " 1102.5615 ]\n",
            "[0.4536473  0.44762787 0.2820931  0.20756142 0.15054086 0.11415057\n",
            " 0.08093417]\n",
            "[2.0710815e-04 4.5361793e-01 2.8789890e+00 2.3098803e+00 1.7403587e+00\n",
            " 1.3614385e+00 9.9210894e-01]\n",
            "2.7482898e-05\n",
            "0.30352896\n",
            "0.034775626\n",
            "8815395000.0\n",
            "4.7782097\n",
            "0.6645174\n",
            "3.4641922\n",
            "10.453795\n",
            "131.86357\n",
            "1.6750895\n",
            "0.01734476\n",
            "269.2588\n",
            "17.046213\n",
            "584.5531\n",
            "13.858368\n",
            "294.05807\n",
            "13.240504\n",
            "147.91853\n",
            "15.076868\n",
            "22.092758\n",
            "12.022614\n",
            "-9999.0\n",
            "-9999.0\n",
            "112.33277\n",
            "12.699974\n"
          ],
          "name": "stdout"
        }
      ]
    },
    {
      "cell_type": "code",
      "metadata": {
        "id": "MASu9QR_B6I6",
        "colab_type": "code",
        "colab": {
          "base_uri": "https://localhost:8080/",
          "height": 595
        },
        "outputId": "94a2246c-d48c-4328-9673-05baf39a52b8"
      },
      "source": [
        "# Data Exploratory Analysis\n",
        "for e in data[0]:\n",
        "  if not isinstance(e,np.ndarray):\n",
        "    print(e)"
      ],
      "execution_count": 46,
      "outputs": [
        {
          "output_type": "stream",
          "text": [
            "146.71420878660933\n",
            "-1.0412815695754145\n",
            "266\n",
            "1\n",
            "51630\n",
            "35.6447\n",
            "0.021222278\n",
            "0.020687785\n",
            "0.00044536332\n",
            "2.7482898e-05\n",
            "0.30352896\n",
            "0.034775626\n",
            "8815395000.0\n",
            "4.7782097\n",
            "0.6645174\n",
            "3.4641922\n",
            "10.453795\n",
            "131.86357\n",
            "1.6750895\n",
            "0.01734476\n",
            "269.2588\n",
            "17.046213\n",
            "584.5531\n",
            "13.858368\n",
            "294.05807\n",
            "13.240504\n",
            "147.91853\n",
            "15.076868\n",
            "22.092758\n",
            "12.022614\n",
            "-9999.0\n",
            "-9999.0\n",
            "112.33277\n",
            "12.699974\n"
          ],
          "name": "stdout"
        }
      ]
    },
    {
      "cell_type": "code",
      "metadata": {
        "id": "GV6A048Xdo9f",
        "colab_type": "code",
        "colab": {
          "base_uri": "https://localhost:8080/",
          "height": 595
        },
        "outputId": "7921dde5-085d-4a32-9e42-f53d2633366c"
      },
      "source": [
        "for e in data[10]:\n",
        "  if not isinstance(e,np.ndarray):\n",
        "    print(e)"
      ],
      "execution_count": 49,
      "outputs": [
        {
          "output_type": "stream",
          "text": [
            "146.38140168909706\n",
            "-0.38651595807888073\n",
            "266\n",
            "142\n",
            "51630\n",
            "10.317507\n",
            "0.052602824\n",
            "0.051988363\n",
            "0.0005003469\n",
            "0.0017348294\n",
            "0.21276227\n",
            "0.03133299\n",
            "7257150000.0\n",
            "1.4025788\n",
            "0.22831255\n",
            "2.9820917\n",
            "7.670071\n",
            "97.74001\n",
            "1.5403867\n",
            "0.065850265\n",
            "69.58427\n",
            "5.28664\n",
            "116.1642\n",
            "4.433574\n",
            "69.056984\n",
            "4.41348\n",
            "16.184795\n",
            "6.5742173\n",
            "11.247559\n",
            "3.6505122\n",
            "31.454142\n",
            "12.773773\n",
            "17.975275\n",
            "5.2066994\n"
          ],
          "name": "stdout"
        }
      ]
    },
    {
      "cell_type": "code",
      "metadata": {
        "id": "WDUKcXxHd3wB",
        "colab_type": "code",
        "colab": {}
      },
      "source": [
        "# Feature Engineering\n",
        "row = []\n",
        "for e in data[0]:\n",
        "  if not isinstance(e,np.ndarray):\n",
        "    row.append(e)\n",
        "row = np.array(row)"
      ],
      "execution_count": 0,
      "outputs": []
    },
    {
      "cell_type": "code",
      "metadata": {
        "id": "CTjVtc4-efTn",
        "colab_type": "code",
        "colab": {}
      },
      "source": [
        "newDataFrame = []\n",
        "\n",
        "for line in data:\n",
        "  newLine = []\n",
        "  for cell in line:\n",
        "    if not isinstance(cell,np.ndarray):\n",
        "      newLine.append(cell)\n",
        "  newLine = np.array(newLine)\n",
        "  newDataFrame.append(newLine)\n",
        "  \n",
        "newDataFrame = np.array(newDataFrame)"
      ],
      "execution_count": 0,
      "outputs": []
    },
    {
      "cell_type": "code",
      "metadata": {
        "id": "hY7HHzvGfeN0",
        "colab_type": "code",
        "colab": {
          "base_uri": "https://localhost:8080/",
          "height": 170
        },
        "outputId": "2ecd5101-9805-4fdf-c16d-6b10238b2795"
      },
      "source": [
        "newDataFrame = pd.DataFrame(newDataFrame, columns=col_names)"
      ],
      "execution_count": 78,
      "outputs": [
        {
          "output_type": "execute_result",
          "data": {
            "text/plain": [
              "count    145155.000000\n",
              "mean          0.035134\n",
              "std           0.013137\n",
              "min          -0.003335\n",
              "25%           0.025793\n",
              "50%           0.036295\n",
              "75%           0.046215\n",
              "max           0.055001\n",
              "Name: Z, dtype: float64"
            ]
          },
          "metadata": {
            "tags": []
          },
          "execution_count": 78
        }
      ]
    },
    {
      "cell_type": "code",
      "metadata": {
        "id": "4w6GMOeMlJZa",
        "colab_type": "code",
        "colab": {}
      },
      "source": [
        "# Data Preprocessing \n",
        "features = newDataFrame.drop('Z', 1)\n",
        "labels = newDataFrame['Z']"
      ],
      "execution_count": 0,
      "outputs": []
    },
    {
      "cell_type": "code",
      "metadata": {
        "id": "3vYPMQ7VlvQm",
        "colab_type": "code",
        "colab": {}
      },
      "source": [
        "# Test Train Split\n",
        "from sklearn.model_selection import train_test_split\n",
        "X_train, X_test, y_train, y_test = train_test_split(features, labels, test_size=0.3, random_state=42)"
      ],
      "execution_count": 0,
      "outputs": []
    },
    {
      "cell_type": "code",
      "metadata": {
        "id": "Kr8du_F3rnh_",
        "colab_type": "code",
        "colab": {
          "base_uri": "https://localhost:8080/",
          "height": 34
        },
        "outputId": "216ec90f-4b5d-486a-f741-020b6c90d73e"
      },
      "source": [
        "\n",
        "from keras.callbacks import ModelCheckpoint\n",
        "from keras.models import Sequential\n",
        "from keras.layers import Dense, Activation, Flatten\n",
        "from sklearn.model_selection import train_test_split\n",
        "from sklearn.ensemble import RandomForestRegressor\n",
        "from sklearn.metrics import mean_absolute_error \n",
        "from matplotlib import pyplot as plt\n",
        "import seaborn as sb\n",
        "import matplotlib.pyplot as plt\n",
        "import pandas as pd\n",
        "import numpy as np\n",
        "import warnings \n",
        "warnings.filterwarnings('ignore')\n",
        "warnings.filterwarnings('ignore', category=DeprecationWarning)\n",
        "from xgboost import XGBRegressor\n",
        "\n",
        "# Model\n",
        "model = RandomForestRegressor()\n",
        "model.fit(X_train,y_train)\n",
        "\n",
        "# Get the mean absolute error on the validation data\n",
        "predicted_prices = model.predict(X_test)\n",
        "MAE = mean_absolute_error(y_test , predicted_prices)\n",
        "print('Random forest validation MAE = ', MAE)"
      ],
      "execution_count": 103,
      "outputs": [
        {
          "output_type": "stream",
          "text": [
            "Random forest validation MAE =  0.0001707339371123337\n"
          ],
          "name": "stdout"
        }
      ]
    }
  ]
}